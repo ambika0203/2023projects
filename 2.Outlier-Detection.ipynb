{
 "cells": [
  {
   "cell_type": "markdown",
   "metadata": {},
   "source": [
    "## Outlier Detection Notebook: \n",
    "##### Aims at detecting outliers for each product by analyzing quantity sold on promo days vs no promo days individually "
   ]
  },
  {
   "cell_type": "code",
   "execution_count": 1,
   "metadata": {},
   "outputs": [
    {
     "name": "stdout",
     "output_type": "stream",
     "text": [
      "CPU times: user 2 µs, sys: 1e+03 ns, total: 3 µs\n",
      "Wall time: 6.44 µs\n"
     ]
    }
   ],
   "source": [
    "# Reading all stored magic variables\n",
    "%store -r\n",
    "\n",
    "# Importing packages\n",
    "from matplotlib import pyplot as plt\n",
    "import pandas as pd\n",
    "import seaborn as sns\n",
    "import numpy as np\n",
    "sns.set(rc={'figure.figsize':(8,8)})\n",
    "%time"
   ]
  },
  {
   "cell_type": "code",
   "execution_count": 2,
   "metadata": {},
   "outputs": [
    {
     "name": "stdout",
     "output_type": "stream",
     "text": [
      "CPU times: user 2 µs, sys: 1 µs, total: 3 µs\n",
      "Wall time: 6.2 µs\n"
     ]
    }
   ],
   "source": [
    "# Defining a promo flag\n",
    "ads['promo_flag'] = np.where(ads.offertype.isin(['F','P','A']), 1, 0)\n",
    "%time"
   ]
  },
  {
   "cell_type": "code",
   "execution_count": 3,
   "metadata": {},
   "outputs": [
    {
     "name": "stdout",
     "output_type": "stream",
     "text": [
      "CPU times: user 10 µs, sys: 5 µs, total: 15 µs\n",
      "Wall time: 9.54 µs\n"
     ]
    },
    {
     "data": {
      "image/png": "[encoded data removed]",
      "text/plain": [
       "<Figure size 288x288 with 1 Axes>"
      ]
     },
     "metadata": {},
     "output_type": "display_data"
    }
   ],
   "source": [
    "# As an example, for a product, plotting box plots by promo flags\n",
    "product = 'Product 9'\n",
    "example = ads[ads['product']==product].reset_index(drop=True)\n",
    "sns.catplot(data=example, kind='box', col='product', x='promo_flag', y='quantity', hue='promo_flag', sharey=False, height=4)\n",
    "%time"
   ]
  },
  {
   "cell_type": "code",
   "execution_count": 4,
   "metadata": {},
   "outputs": [
    {
     "name": "stdout",
     "output_type": "stream",
     "text": [
      "CPU times: user 3 µs, sys: 1e+03 ns, total: 4 µs\n",
      "Wall time: 9.54 µs\n"
     ]
    }
   ],
   "source": [
    "# Outlier Detection using IQR range concept of box plots for all products\n",
    "ads_outliers = pd.DataFrame()\n",
    "\n",
    "for product in list(ads['product'].drop_duplicates()):\n",
    "    \n",
    "    ads_subset = ads[ads['product']==product].reset_index(drop=True)\n",
    "\n",
    "    promo_sales = ads_subset[ads_subset.promo_flag==1]\n",
    "    no_promo_sales =ads_subset[ads_subset.promo_flag==0]\n",
    "\n",
    "    q1_pc1, q3_pc1 = ads_subset[ads_subset.promo_flag==1]['quantity'].quantile([0.25, 0.75])\n",
    "    iqr_pc1 = q3_pc1 - q1_pc1\n",
    "    \n",
    "    #print(q1_pc1,q3_pc1)\n",
    "    # Calculate upper and lower bounds for outlier for pc1\n",
    "    lower_pc1 = q1_pc1 - (1.5*iqr_pc1)\n",
    "    upper_pc1 = q3_pc1 + (1.5*iqr_pc1)\n",
    "    \n",
    "    #print(lower_pc1,upper_pc1)\n",
    "    # Filter out the outliers from the pc1\n",
    "    ads_subset['outlier_flag'] = np.where((ads_subset['promo_flag'] == 1) & ((ads_subset['quantity']> upper_pc1) | (ads_subset['quantity']< lower_pc1)),1,0)\n",
    "\n",
    "    q1_pc1, q3_pc1 = ads_subset[ads_subset.promo_flag==0]['quantity'].quantile([0.25, 0.75])\n",
    "    iqr_pc1 = q3_pc1 - q1_pc1\n",
    "    # Calculate upper and lower bounds for outlier for pc1\n",
    "    lower_pc1 = q1_pc1 - (1.5*iqr_pc1)\n",
    "    upper_pc1 = q3_pc1 + (1.5*iqr_pc1)\n",
    "\n",
    "    #print(lower_pc1,upper_pc1)\n",
    "    ads_subset['outlier_flag'] = np.where((ads_subset['promo_flag'] == 0) & ((ads_subset['quantity']> upper_pc1) | \n",
    "                                                                             (ads_subset['quantity']< lower_pc1)),1,ads_subset['outlier_flag'])\n",
    "\n",
    "    ads_subset['quantity'] = np.where(ads_subset['outlier_flag']==1,np.nan,ads_subset['quantity'])\n",
    "    \n",
    "    ads_outliers = ads_outliers.append(ads_subset)\n",
    "%time"
   ]
  },
  {
   "cell_type": "code",
   "execution_count": 5,
   "metadata": {},
   "outputs": [
    {
     "name": "stdout",
     "output_type": "stream",
     "text": [
      "CPU times: user 3 µs, sys: 0 ns, total: 3 µs\n",
      "Wall time: 6.91 µs\n"
     ]
    }
   ],
   "source": [
    "list_1 = list(ads_outliers['product'].drop_duplicates())\n",
    "%time"
   ]
  },
  {
   "cell_type": "code",
   "execution_count": 6,
   "metadata": {},
   "outputs": [
    {
     "data": {
      "text/html": [
       "<div>\n",
       "<style scoped>\n",
       "    .dataframe tbody tr th:only-of-type {\n",
       "        vertical-align: middle;\n",
       "    }\n",
       "\n",
       "    .dataframe tbody tr th {\n",
       "        vertical-align: top;\n",
       "    }\n",
       "\n",
       "    .dataframe thead th {\n",
       "        text-align: right;\n",
       "    }\n",
       "</style>\n",
       "<table border=\"1\" class=\"dataframe\">\n",
       "  <thead>\n",
       "    <tr style=\"text-align: right;\">\n",
       "      <th></th>\n",
       "      <th>product</th>\n",
       "      <th>date</th>\n",
       "      <th>offer</th>\n",
       "      <th>offertype</th>\n",
       "      <th>quantity</th>\n",
       "      <th>sub category</th>\n",
       "      <th>category</th>\n",
       "      <th>unitretailprice</th>\n",
       "      <th>promo_flag</th>\n",
       "      <th>outlier_flag</th>\n",
       "    </tr>\n",
       "  </thead>\n",
       "  <tbody>\n",
       "    <tr>\n",
       "      <th>0</th>\n",
       "      <td>Product 102</td>\n",
       "      <td>2017-04-26</td>\n",
       "      <td>25.0</td>\n",
       "      <td>P</td>\n",
       "      <td>NaN</td>\n",
       "      <td>Sub Category 35</td>\n",
       "      <td>Category 15</td>\n",
       "      <td>2.99</td>\n",
       "      <td>1</td>\n",
       "      <td>1</td>\n",
       "    </tr>\n",
       "    <tr>\n",
       "      <th>1</th>\n",
       "      <td>Product 102</td>\n",
       "      <td>2017-04-27</td>\n",
       "      <td>0.0</td>\n",
       "      <td>none</td>\n",
       "      <td>NaN</td>\n",
       "      <td>Sub Category 35</td>\n",
       "      <td>Category 15</td>\n",
       "      <td>2.99</td>\n",
       "      <td>0</td>\n",
       "      <td>1</td>\n",
       "    </tr>\n",
       "    <tr>\n",
       "      <th>2</th>\n",
       "      <td>Product 102</td>\n",
       "      <td>2017-04-28</td>\n",
       "      <td>0.0</td>\n",
       "      <td>none</td>\n",
       "      <td>NaN</td>\n",
       "      <td>Sub Category 35</td>\n",
       "      <td>Category 15</td>\n",
       "      <td>2.99</td>\n",
       "      <td>0</td>\n",
       "      <td>1</td>\n",
       "    </tr>\n",
       "    <tr>\n",
       "      <th>3</th>\n",
       "      <td>Product 102</td>\n",
       "      <td>2017-04-29</td>\n",
       "      <td>0.0</td>\n",
       "      <td>none</td>\n",
       "      <td>NaN</td>\n",
       "      <td>Sub Category 35</td>\n",
       "      <td>Category 15</td>\n",
       "      <td>2.99</td>\n",
       "      <td>0</td>\n",
       "      <td>1</td>\n",
       "    </tr>\n",
       "    <tr>\n",
       "      <th>4</th>\n",
       "      <td>Product 102</td>\n",
       "      <td>2017-04-30</td>\n",
       "      <td>0.0</td>\n",
       "      <td>none</td>\n",
       "      <td>NaN</td>\n",
       "      <td>Sub Category 35</td>\n",
       "      <td>Category 15</td>\n",
       "      <td>2.99</td>\n",
       "      <td>0</td>\n",
       "      <td>1</td>\n",
       "    </tr>\n",
       "    <tr>\n",
       "      <th>...</th>\n",
       "      <td>...</td>\n",
       "      <td>...</td>\n",
       "      <td>...</td>\n",
       "      <td>...</td>\n",
       "      <td>...</td>\n",
       "      <td>...</td>\n",
       "      <td>...</td>\n",
       "      <td>...</td>\n",
       "      <td>...</td>\n",
       "      <td>...</td>\n",
       "    </tr>\n",
       "    <tr>\n",
       "      <th>967</th>\n",
       "      <td>Product 102</td>\n",
       "      <td>2019-12-27</td>\n",
       "      <td>0.0</td>\n",
       "      <td>none</td>\n",
       "      <td>55.0</td>\n",
       "      <td>Sub Category 35</td>\n",
       "      <td>Category 15</td>\n",
       "      <td>2.99</td>\n",
       "      <td>0</td>\n",
       "      <td>0</td>\n",
       "    </tr>\n",
       "    <tr>\n",
       "      <th>968</th>\n",
       "      <td>Product 102</td>\n",
       "      <td>2019-12-28</td>\n",
       "      <td>0.0</td>\n",
       "      <td>none</td>\n",
       "      <td>NaN</td>\n",
       "      <td>Sub Category 35</td>\n",
       "      <td>Category 15</td>\n",
       "      <td>2.99</td>\n",
       "      <td>0</td>\n",
       "      <td>1</td>\n",
       "    </tr>\n",
       "    <tr>\n",
       "      <th>969</th>\n",
       "      <td>Product 102</td>\n",
       "      <td>2019-12-29</td>\n",
       "      <td>0.0</td>\n",
       "      <td>none</td>\n",
       "      <td>50.0</td>\n",
       "      <td>Sub Category 35</td>\n",
       "      <td>Category 15</td>\n",
       "      <td>2.99</td>\n",
       "      <td>0</td>\n",
       "      <td>0</td>\n",
       "    </tr>\n",
       "    <tr>\n",
       "      <th>970</th>\n",
       "      <td>Product 102</td>\n",
       "      <td>2019-12-30</td>\n",
       "      <td>0.0</td>\n",
       "      <td>none</td>\n",
       "      <td>51.0</td>\n",
       "      <td>Sub Category 35</td>\n",
       "      <td>Category 15</td>\n",
       "      <td>2.99</td>\n",
       "      <td>0</td>\n",
       "      <td>0</td>\n",
       "    </tr>\n",
       "    <tr>\n",
       "      <th>971</th>\n",
       "      <td>Product 102</td>\n",
       "      <td>2019-12-31</td>\n",
       "      <td>0.0</td>\n",
       "      <td>none</td>\n",
       "      <td>60.0</td>\n",
       "      <td>Sub Category 35</td>\n",
       "      <td>Category 15</td>\n",
       "      <td>2.99</td>\n",
       "      <td>0</td>\n",
       "      <td>0</td>\n",
       "    </tr>\n",
       "  </tbody>\n",
       "</table>\n",
       "<p>972 rows × 10 columns</p>\n",
       "</div>"
      ],
      "text/plain": [
       "         product       date  offer offertype  quantity     sub category  \\\n",
       "0    Product 102 2017-04-26   25.0         P       NaN  Sub Category 35   \n",
       "1    Product 102 2017-04-27    0.0      none       NaN  Sub Category 35   \n",
       "2    Product 102 2017-04-28    0.0      none       NaN  Sub Category 35   \n",
       "3    Product 102 2017-04-29    0.0      none       NaN  Sub Category 35   \n",
       "4    Product 102 2017-04-30    0.0      none       NaN  Sub Category 35   \n",
       "..           ...        ...    ...       ...       ...              ...   \n",
       "967  Product 102 2019-12-27    0.0      none      55.0  Sub Category 35   \n",
       "968  Product 102 2019-12-28    0.0      none       NaN  Sub Category 35   \n",
       "969  Product 102 2019-12-29    0.0      none      50.0  Sub Category 35   \n",
       "970  Product 102 2019-12-30    0.0      none      51.0  Sub Category 35   \n",
       "971  Product 102 2019-12-31    0.0      none      60.0  Sub Category 35   \n",
       "\n",
       "        category  unitretailprice  promo_flag  outlier_flag  \n",
       "0    Category 15             2.99           1             1  \n",
       "1    Category 15             2.99           0             1  \n",
       "2    Category 15             2.99           0             1  \n",
       "3    Category 15             2.99           0             1  \n",
       "4    Category 15             2.99           0             1  \n",
       "..           ...              ...         ...           ...  \n",
       "967  Category 15             2.99           0             0  \n",
       "968  Category 15             2.99           0             1  \n",
       "969  Category 15             2.99           0             0  \n",
       "970  Category 15             2.99           0             0  \n",
       "971  Category 15             2.99           0             0  \n",
       "\n",
       "[972 rows x 10 columns]"
      ]
     },
     "execution_count": 6,
     "metadata": {},
     "output_type": "execute_result"
    }
   ],
   "source": [
    "# Checking results for a product\n",
    "ads_outliers[ads_outliers['product'] == 'Product 102']"
   ]
  },
  {
   "cell_type": "code",
   "execution_count": 7,
   "metadata": {},
   "outputs": [
    {
     "name": "stdout",
     "output_type": "stream",
     "text": [
      "Stored 'list_1' (list)\n",
      "CPU times: user 0 ns, sys: 8 µs, total: 8 µs\n",
      "Wall time: 7.39 µs\n"
     ]
    }
   ],
   "source": [
    "%store list_1\n",
    "%time"
   ]
  },
  {
   "cell_type": "code",
   "execution_count": 8,
   "metadata": {},
   "outputs": [
    {
     "name": "stdout",
     "output_type": "stream",
     "text": [
      "Outliers detected for 197 products!\n",
      "Stored 'ads' (DataFrame)\n",
      "CPU times: user 4 µs, sys: 1 µs, total: 5 µs\n",
      "Wall time: 9.54 µs\n"
     ]
    }
   ],
   "source": [
    "# Checking count of products in the outliers df\n",
    "ads = ads_outliers\n",
    "ads.drop(['promo_flag'],axis=1,inplace=True)\n",
    "print(\"Outliers detected for \"+str(len(ads['product'].drop_duplicates())) + \" products!\")\n",
    "%store ads\n",
    "%time"
   ]
  },
  {
   "cell_type": "code",
   "execution_count": 9,
   "metadata": {},
   "outputs": [
    {
     "name": "stdout",
     "output_type": "stream",
     "text": [
      "CPU times: user 3 µs, sys: 0 ns, total: 3 µs\n",
      "Wall time: 7.87 µs\n"
     ]
    }
   ],
   "source": [
    "# Checking for null values in the dataframe\n",
    "ads[ads.isna().any(axis=1)]\n",
    "%time"
   ]
  },
  {
   "cell_type": "code",
   "execution_count": 10,
   "metadata": {},
   "outputs": [
    {
     "name": "stdout",
     "output_type": "stream",
     "text": [
      "CPU times: user 7 µs, sys: 1e+03 ns, total: 8 µs\n",
      "Wall time: 16.2 µs\n"
     ]
    }
   ],
   "source": [
    "# Saving results to a spreadsheet\n",
    "ads_subset.to_csv('outliers.csv')\n",
    "%time"
   ]
  }
 ],
 "metadata": {
  "kernelspec": {
   "display_name": "Python 3.8.5",
   "language": "python",
   "name": "python3"
  },
  "language_info": {
   "codemirror_mode": {
    "name": "ipython",
    "version": 3
   },
   "file_extension": ".py",
   "mimetype": "text/x-python",
   "name": "python",
   "nbconvert_exporter": "python",
   "pygments_lexer": "ipython3",
   "version": "3.8.5"
  }
 },
 "nbformat": 4,
 "nbformat_minor": 4
}
